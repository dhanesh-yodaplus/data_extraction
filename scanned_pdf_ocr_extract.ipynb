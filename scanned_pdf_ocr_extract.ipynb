{
 "cells": [
  {
   "cell_type": "markdown",
   "id": "81cd33a0",
   "metadata": {},
   "source": [
    "# Scanned PDF OCR + Extraction\n",
    "\n",
    "This notebook contains how to extract structured data from a **scanned or image-based PDF** using OCR.\n",
    "\n",
    "Steps included:\n",
    "1. Convert PDF pages to images using:\n",
    "   - `pdf2image`\n",
    "\n",
    "2. Perform OCR to extract text using:\n",
    "   - `pytesseract`\n",
    "\n",
    "3. Parse the raw OCR output line-by-line to extract values like:\n",
    "   - Policy Number\n",
    "   - Insured Name\n",
    "   - Sum Insured\n",
    "   - Premium\n",
    "   - Policy Start\n",
    "   - Policy End\n",
    "\n",
    "The extraction uses basic string parsing without smart/fuzzy logic.\n",
    "\n",
    "Output:\n",
    "- Raw OCR text printed to console\n",
    "- Parsed fields saved to: `ocr_extracted_output.xlsx`\n"
   ]
  },
  {
   "cell_type": "code",
   "execution_count": 4,
   "id": "47007a7a",
   "metadata": {},
   "outputs": [],
   "source": [
    "from pdf2image import convert_from_path\n",
    "import pytesseract\n",
    "import pandas as pd\n"
   ]
  },
  {
   "cell_type": "code",
   "execution_count": 2,
   "id": "d4447ea7",
   "metadata": {},
   "outputs": [],
   "source": [
    "# Step 1: Convert scanned PDF to images\n",
    "images = convert_from_path(\"demo_pdfs\\sample_scanned_based.pdf\", dpi=300)"
   ]
  },
  {
   "cell_type": "code",
   "execution_count": 8,
   "id": "5331743a",
   "metadata": {},
   "outputs": [],
   "source": [
    "# OCR the first page\n",
    "ocr_text = pytesseract.image_to_string(images[0])\n",
    "\n",
    "# Extract key-value pairs from actual OCR output dynamically\n",
    "lines = ocr_text.strip().splitlines()\n",
    "data = {}\n",
    "\n",
    "for line in lines:\n",
    "    if \":\" in line:\n",
    "        key, value = line.split(\":\", 1)\n",
    "        data[key.strip()] = value.strip()\n"
   ]
  },
  {
   "cell_type": "code",
   "execution_count": 10,
   "id": "293bf670",
   "metadata": {},
   "outputs": [
    {
     "name": "stdout",
     "output_type": "stream",
     "text": [
      "OCR text dynamically extracted and saved to Excel.\n"
     ]
    }
   ],
   "source": [
    "df = pd.DataFrame([data])\n",
    "df.to_excel(\"ocr_extracted_output.xlsx\", index=False)\n",
    "\n",
    "print(\"OCR text dynamically extracted and saved to Excel.\")"
   ]
  }
 ],
 "metadata": {
  "kernelspec": {
   "display_name": "Python 3",
   "language": "python",
   "name": "python3"
  },
  "language_info": {
   "codemirror_mode": {
    "name": "ipython",
    "version": 3
   },
   "file_extension": ".py",
   "mimetype": "text/x-python",
   "name": "python",
   "nbconvert_exporter": "python",
   "pygments_lexer": "ipython3",
   "version": "3.10.11"
  }
 },
 "nbformat": 4,
 "nbformat_minor": 5
}
