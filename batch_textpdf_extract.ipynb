{
 "cells": [
  {
   "cell_type": "markdown",
   "id": "f32adbcd",
   "metadata": {},
   "source": [
    "# Batch Processing - PDF Text Extraction\n",
    "\n",
    "This notebook performs batch data extraction from multiple text-based PDFs using:\n",
    "- `pdfplumber` for text extraction\n",
    "- `rapidfuzz` for fuzzy field matching\n",
    "- `pandas` for saving structured output\n",
    "\n",
    "The smart_extract() function uses keyword-based fuzzy matching to identify fields such as:\n",
    "- Policy Number\n",
    "- Insured Name\n",
    "- Sum Insured\n",
    "- Premium\n",
    "- Policy Start\n",
    "- Policy End\n",
    "\n",
    "Each PDF file is processed from a folder, and the structured data is saved into a combined Excel file.\n",
    "\n",
    "Output:\n",
    "- An Excel file (`batch_output.xlsx`) with structured rows, one per PDF."
   ]
  },
  {
   "cell_type": "code",
   "execution_count": null,
   "id": "63dc4396",
   "metadata": {},
   "outputs": [],
   "source": [
    "import os\n",
    "import pdfplumber\n",
    "import pandas as pd\n",
    "from rapidfuzz import process, fuzz"
   ]
  },
  {
   "cell_type": "code",
   "execution_count": 2,
   "id": "880c1125",
   "metadata": {},
   "outputs": [],
   "source": [
    "def smart_extract(text):\n",
    "    fields = {\n",
    "        \"Policy Number\": [\"number\"],\n",
    "        \"Insured Name\": [\"name\"],\n",
    "        \"Sum Insured\": [\"sum\", \"insured\"],\n",
    "        \"Premium\": [\"premium\"],\n",
    "        \"Policy Start\": [\"start\"],\n",
    "        \"Policy End\": [\"end\"]\n",
    "    }\n",
    "\n",
    "    lines = text.splitlines()\n",
    "    parsed_data = {}\n",
    "\n",
    "    for label, required_keywords in fields.items():\n",
    "        result = process.extractOne(label, lines, scorer=fuzz.token_sort_ratio, score_cutoff=50)\n",
    "        if result:\n",
    "            match_line, score, _ = result\n",
    "            if all(keyword.lower() in match_line.lower() for keyword in required_keywords):\n",
    "                try:\n",
    "                    value = match_line.split(\":\")[1].strip()\n",
    "                except:\n",
    "                    value = match_line.strip()\n",
    "                parsed_data[label] = value\n",
    "            else:\n",
    "                parsed_data[label] = \"\"\n",
    "        else:\n",
    "            parsed_data[label] = \"\"\n",
    "\n",
    "    return parsed_data"
   ]
  },
  {
   "cell_type": "code",
   "execution_count": 5,
   "id": "cf3c4d42",
   "metadata": {},
   "outputs": [],
   "source": [
    "def process_pdfs(input_dir=\"demo_pdfs\", output_dir=\"output_excels\", combined_filename=\"batch_output.xlsx\"):\n",
    "    os.makedirs(output_dir, exist_ok=True)\n",
    "    combined_data = []\n",
    "\n",
    "    for filename in os.listdir(input_dir):\n",
    "        if filename.lower().endswith(\".pdf\"):\n",
    "            try:\n",
    "                with pdfplumber.open(os.path.join(input_dir, filename)) as pdf:\n",
    "                    text = \"\\n\".join([page.extract_text() for page in pdf.pages if page.extract_text()])\n",
    "                    extracted = smart_extract(text)\n",
    "                    extracted[\"Source File\"] = filename\n",
    "                    combined_data.append(extracted)\n",
    "            except Exception as e:\n",
    "                print(f\"[ERROR] Failed to process {filename}: {e}\")\n",
    "\n",
    "    df = pd.DataFrame(combined_data)\n",
    "    df.to_excel(os.path.join(output_dir, combined_filename), index=False)\n",
    "    print(f\"Processed {len(combined_data)} PDF(s). Excel saved at: {output_dir}/{combined_filename}\")\n"
   ]
  },
  {
   "cell_type": "code",
   "execution_count": 6,
   "id": "84865748",
   "metadata": {},
   "outputs": [
    {
     "name": "stderr",
     "output_type": "stream",
     "text": [
      "CropBox missing from /Page, defaulting to MediaBox\n",
      "CropBox missing from /Page, defaulting to MediaBox\n",
      "CropBox missing from /Page, defaulting to MediaBox\n",
      "CropBox missing from /Page, defaulting to MediaBox\n",
      "CropBox missing from /Page, defaulting to MediaBox\n",
      "CropBox missing from /Page, defaulting to MediaBox\n",
      "CropBox missing from /Page, defaulting to MediaBox\n",
      "CropBox missing from /Page, defaulting to MediaBox\n"
     ]
    },
    {
     "name": "stdout",
     "output_type": "stream",
     "text": [
      "Processed 4 PDF(s). Excel saved at: output_excels/batch_output.xlsx\n"
     ]
    }
   ],
   "source": [
    "process_pdfs()"
   ]
  }
 ],
 "metadata": {
  "kernelspec": {
   "display_name": "Python 3",
   "language": "python",
   "name": "python3"
  },
  "language_info": {
   "codemirror_mode": {
    "name": "ipython",
    "version": 3
   },
   "file_extension": ".py",
   "mimetype": "text/x-python",
   "name": "python",
   "nbconvert_exporter": "python",
   "pygments_lexer": "ipython3",
   "version": "3.10.11"
  }
 },
 "nbformat": 4,
 "nbformat_minor": 5
}
