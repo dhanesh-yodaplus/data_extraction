{
 "cells": [
  {
   "cell_type": "markdown",
   "id": "a54c29bd",
   "metadata": {},
   "source": [
    "# Word File Field Extraction\n",
    "\n",
    "This notebook contains how to extract structured data from a `.docx` Microsoft Word file using:\n",
    "\n",
    "- `python-docx` for reading Word documents\n",
    "- `pandas` for saving structured data to Excel\n",
    "\n",
    "It assumes each line in the Word file is in the format:\n",
    "`<Field Name>: <Value>`\n",
    "\n",
    "The notebook reads all paragraph lines, splits them by colon, and stores the key-value pairs in a dictionary.\n",
    "\n",
    "Output:\n",
    "\n",
    "- Extracted fields saved into an Excel file: `word_extracted_output.xlsx`\n"
   ]
  },
  {
   "cell_type": "code",
   "execution_count": 1,
   "id": "a78d5a66",
   "metadata": {},
   "outputs": [],
   "source": [
    "from docx import Document\n",
    "import pandas as pd"
   ]
  },
  {
   "cell_type": "code",
   "execution_count": 2,
   "id": "fe2d827f",
   "metadata": {},
   "outputs": [],
   "source": [
    "# Load the Word file\n",
    "doc = Document(\"sample_policy.docx\")"
   ]
  },
  {
   "cell_type": "code",
   "execution_count": 3,
   "id": "6b10ac87",
   "metadata": {},
   "outputs": [
    {
     "name": "stdout",
     "output_type": "stream",
     "text": [
      "Word fields extracted and saved to Excel.\n"
     ]
    }
   ],
   "source": [
    "# Extract paragraph text and split by colon\n",
    "data = {}\n",
    "for para in doc.paragraphs:\n",
    "    line = para.text.strip()\n",
    "    if \":\" in line:\n",
    "        key, value = line.split(\":\", 1)\n",
    "        data[key.strip()] = value.strip()\n",
    "\n",
    "# Save to Excel\n",
    "df = pd.DataFrame([data])\n",
    "df.to_excel(\"word_extracted_output.xlsx\", index=False)\n",
    "\n",
    "print(\"Word fields extracted and saved to Excel.\")\n"
   ]
  }
 ],
 "metadata": {
  "kernelspec": {
   "display_name": "Python 3",
   "language": "python",
   "name": "python3"
  },
  "language_info": {
   "codemirror_mode": {
    "name": "ipython",
    "version": 3
   },
   "file_extension": ".py",
   "mimetype": "text/x-python",
   "name": "python",
   "nbconvert_exporter": "python",
   "pygments_lexer": "ipython3",
   "version": "3.10.11"
  }
 },
 "nbformat": 4,
 "nbformat_minor": 5
}
