{
 "cells": [
  {
   "cell_type": "markdown",
   "id": "bf64e218",
   "metadata": {},
   "source": [
    "# Text-Based PDF Extraction + PDF Generation\n",
    "\n",
    "1. Extract structured data from a **text-based PDF** using:\n",
    "\n",
    "   - `pdfplumber` for text extraction\n",
    "   - `rapidfuzz` for fuzzy keyword matching\n",
    "\n",
    "2. Generate a PDF report using:\n",
    "   - `reportlab` to convert extracted fields into a formatted PDF\n",
    "\n",
    "The code extracts fields like:\n",
    "\n",
    "- Policy Number\n",
    "- Insured Name\n",
    "- Sum Insured\n",
    "- Premium\n",
    "- Policy Start\n",
    "- Policy End\n",
    "\n",
    "Then, it creates a nicely formatted PDF titled \"Insurance Policy Summary\" containing those values.\n",
    "\n",
    "Output:\n",
    "\n",
    "- Printed extracted data in notebook\n",
    "- Generated PDF file: `policy_summary_from_textpdf.pdf`\n"
   ]
  },
  {
   "cell_type": "code",
   "execution_count": 4,
   "id": "3bc9df03",
   "metadata": {},
   "outputs": [],
   "source": [
    "import pandas as pd\n",
    "import pdfplumber\n",
    "from rapidfuzz import process, fuzz\n",
    "from reportlab.lib.pagesizes import A4\n",
    "from reportlab.pdfgen import canvas\n"
   ]
  },
  {
   "cell_type": "code",
   "execution_count": 5,
   "id": "3ed1d3d2",
   "metadata": {},
   "outputs": [],
   "source": [
    "pdf_path = \"demo_pdfs\\policy_1.pdf\""
   ]
  },
  {
   "cell_type": "code",
   "execution_count": 6,
   "id": "306aca7d",
   "metadata": {},
   "outputs": [
    {
     "name": "stderr",
     "output_type": "stream",
     "text": [
      "CropBox missing from /Page, defaulting to MediaBox\n",
      "CropBox missing from /Page, defaulting to MediaBox\n"
     ]
    },
    {
     "name": "stdout",
     "output_type": "stream",
     "text": [
      "Insurance Policy Document\n",
      "Policy Number: EDME-00123-XY\n",
      "Insured Name: Rahul Sharma\n",
      "Sum Insured: 5,00,000\n",
      "Premium: 12,500\n",
      "Policy Start: 01-Apr-2024\n",
      "Policy End: 31-Mar-2025\n"
     ]
    }
   ],
   "source": [
    "with pdfplumber.open(pdf_path) as pdf:\n",
    "    first_page = pdf.pages[0]\n",
    "    raw_text = first_page.extract_text()\n",
    "\n",
    "print(raw_text)"
   ]
  },
  {
   "cell_type": "code",
   "execution_count": 7,
   "id": "c1b114d2",
   "metadata": {},
   "outputs": [
    {
     "name": "stdout",
     "output_type": "stream",
     "text": [
      "Policy Number: EDME-00123-XY\n",
      "Insured Name: Rahul Sharma\n",
      "Sum Insured: 5,00,000\n",
      "Premium: 12,500\n",
      "Policy Start: 01-Apr-2024\n",
      "Policy End: 31-Mar-2025\n"
     ]
    }
   ],
   "source": [
    "# Define the fields you want to extract\n",
    "fields = {\n",
    "    \"Policy Number\": [\"number\"],\n",
    "    \"Insured Name\": [\"name\"],\n",
    "    \"Sum Insured\": [\"sum\", \"insured\"],\n",
    "    \"Premium\": [\"premium\"],\n",
    "    \"Policy Start\": [\"start\"],\n",
    "    \"Policy End\": [\"end\"]\n",
    "}\n",
    "\n",
    "# Extract lines from text\n",
    "lines = raw_text.splitlines()\n",
    "\n",
    "# Placeholder for parsed data\n",
    "parsed_data = {}\n",
    "\n",
    "# Loop through each label\n",
    "for label, required_keywords in fields.items():\n",
    "    result = process.extractOne(label, lines, scorer=fuzz.token_sort_ratio, score_cutoff=50)\n",
    "    \n",
    "    if result:\n",
    "        match_line, score, _ = result\n",
    "        \n",
    "        if all(keyword.lower() in match_line.lower() for keyword in required_keywords):\n",
    "            try:\n",
    "                value = match_line.split(\":\")[1].strip()\n",
    "            except IndexError:\n",
    "                value = None\n",
    "            parsed_data[label] = value\n",
    "            print(f\"{label}: {value}\")\n",
    "        else:\n",
    "            print(f\"Match score was high, but context mismatch for '{label}'. Ignored: {match_line}\")\n",
    "            parsed_data[label] = None\n",
    "    else:\n",
    "        print(f\"No close match found for '{label}'\")\n",
    "        parsed_data[label] = None\n"
   ]
  },
  {
   "cell_type": "code",
   "execution_count": 8,
   "id": "f142ccda",
   "metadata": {},
   "outputs": [
    {
     "name": "stdout",
     "output_type": "stream",
     "text": [
      "Data saved to parsed_policy_data.xlsx\n"
     ]
    }
   ],
   "source": [
    "# 'parsed_data' should already be populated from your extraction logic\n",
    "df = pd.DataFrame([parsed_data])  # Wrap in list to create a row\n",
    "\n",
    "# Save to Excel\n",
    "output_path = \"parsed_policy_data.xlsx\"\n",
    "df.to_excel(output_path, index=False)\n",
    "\n",
    "print(f\"Data saved to {output_path}\")\n"
   ]
  },
  {
   "cell_type": "code",
   "execution_count": 9,
   "id": "0e26e86b",
   "metadata": {},
   "outputs": [
    {
     "name": "stdout",
     "output_type": "stream",
     "text": [
      "PDF summary saved as: policy_summary_from_textpdf.pdf\n"
     ]
    }
   ],
   "source": [
    "\n",
    "# Generate PDF report from parsed_data\n",
    "pdf_path = \"policy_summary_from_textpdf.pdf\"\n",
    "c = canvas.Canvas(pdf_path, pagesize=A4)\n",
    "\n",
    "width, height = A4\n",
    "y = height - 50\n",
    "\n",
    "c.setFont(\"Helvetica-Bold\", 16)\n",
    "c.drawString(50, y, \"Insurance Policy Summary\")\n",
    "y -= 40\n",
    "\n",
    "c.setFont(\"Helvetica\", 12)\n",
    "for key, value in parsed_data.items():\n",
    "    c.drawString(50, y, f\"{key}: {value}\")\n",
    "    y -= 25\n",
    "\n",
    "c.save()\n",
    "print(\"PDF summary saved as:\", pdf_path)\n"
   ]
  }
 ],
 "metadata": {
  "kernelspec": {
   "display_name": "Python 3",
   "language": "python",
   "name": "python3"
  },
  "language_info": {
   "codemirror_mode": {
    "name": "ipython",
    "version": 3
   },
   "file_extension": ".py",
   "mimetype": "text/x-python",
   "name": "python",
   "nbconvert_exporter": "python",
   "pygments_lexer": "ipython3",
   "version": "3.10.11"
  }
 },
 "nbformat": 4,
 "nbformat_minor": 5
}
